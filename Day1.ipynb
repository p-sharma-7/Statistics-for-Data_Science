{
  "nbformat": 4,
  "nbformat_minor": 0,
  "metadata": {
    "colab": {
      "provenance": [],
      "toc_visible": true
    },
    "kernelspec": {
      "name": "python3",
      "display_name": "Python 3"
    },
    "language_info": {
      "name": "python"
    }
  },
  "cells": [
    {
      "cell_type": "markdown",
      "source": [
        "# Probabilty\n",
        "\n",
        "\n",
        "---\n",
        "\n",
        "\n",
        "###Axioms of probability\n",
        "The probabilty law assigns to every eventA, a number P(A) called the probability of A satiffying the following Axioms:\n",
        "\n",
        "\n",
        "1.   **Non-negativity :** Every probability is between 0 and 1 included\n",
        "2.   **Additivity:** If A & B are two disjoint events then both are mutually exclusive\n",
        "3.  **Normalization :** The probability of entire sample space is 1.\n",
        "\n",
        "\n",
        "\n",
        "---\n"
      ],
      "metadata": {
        "id": "Nu1v6vHUspCm"
      }
    },
    {
      "cell_type": "code",
      "execution_count": null,
      "metadata": {
        "colab": {
          "base_uri": "https://localhost:8080/"
        },
        "id": "cKM9RD5xsmXO",
        "outputId": "198525af-229e-4095-a01e-82edd907048c"
      },
      "outputs": [
        {
          "output_type": "stream",
          "name": "stdout",
          "text": [
            "Probability of A ∪ B: 1.0\n"
          ]
        }
      ],
      "source": [
        "'''A Python function that takes two mutually exclusive events, A and B, where the sum of their probabilities must equal 1\n",
        "(since they are the only possible outcomes in a sample space). Ensure the function validates the following axioms of probability:\n",
        "'''\n",
        "def check_probability_axoims(P_A, P_B):\n",
        "    #Axoim1 : Non negative\n",
        "    if P_A <0 or P_B<0:\n",
        "        return False\n",
        "    #Axoim2: Normalization\n",
        "    if P_A+P_B !=1:\n",
        "        return False\n",
        "    #Axiom3: Aditivity\n",
        "    # Since they are mutually exclusive, P(A ∪ B) = P(A) + P(B)\n",
        "    P_union = P_A + P_B\n",
        "    return f\"Probability of A ∪ B: {P_union}\"\n",
        "\n",
        "P_A=0.6\n",
        "P_B=0.4\n",
        "result = check_probability_axoims(P_A, P_B)\n",
        "print(result)"
      ]
    },
    {
      "cell_type": "markdown",
      "source": [
        "\n",
        "##Conditional Probabilty, Multiplicaiton Rule, Total Probabiltiy Theorm, Bayes Therom"
      ],
      "metadata": {
        "id": "OoSmoD2x6oHQ"
      }
    },
    {
      "cell_type": "markdown",
      "source": [
        "###Conditional Probability\n",
        "Conditional probability is the probability of an event occurring given that another event has already occurred.\n",
        "\n",
        "    P(A∣B)= P(A∩B)/P(B)\n",
        "\n",
        "---\n"
      ],
      "metadata": {
        "id": "HmbIC-ZB6utx"
      }
    },
    {
      "cell_type": "markdown",
      "source": [
        "###Multiplicaiton Rule:\n",
        " The multiplication rule is used to find the probability of the intersection of two events (both events occurring).\n",
        "    \n",
        "    P(A∩B)=P(A∣B)⋅P(B)\n",
        "\n",
        "**If A and B are independent:**\n",
        "    \n",
        "    P(A∩B)=P(A)⋅P(B)\n",
        "\n",
        "---\n"
      ],
      "metadata": {
        "id": "beV8BTwa632z"
      }
    },
    {
      "cell_type": "markdown",
      "source": [
        "### Probability Theorem:\n",
        "\n",
        "*   List item\n",
        "*   List item\n",
        "\n",
        "\n",
        " This theorem is used when we want to find the probability of an event A, but we only know its conditional probabilities on other events that form a partition of the sample space.\n",
        "\n",
        "    Let A_1, A_2,...A_n be a disjoint events that form apartion of\n",
        "    sample space. Assume that P(A_i)>0 for all i. then for any event. we have,\n",
        "    \n",
        "    P(A) = i∑​P(A∣Bi​)⋅P(Bi​)\n",
        "\n",
        "    (Bi​) are events that partition the sample space.\n",
        "    P(A∣Bi​) is the conditional probability of A given Bi​.\n",
        "  \n",
        "---  "
      ],
      "metadata": {
        "id": "PTLKy6-G6-jX"
      }
    },
    {
      "cell_type": "markdown",
      "source": [
        "###Bayes' Theorem:\n",
        "It is used for infernece. There are a number of casuses that may reuslt in certain effect. we observe the effect and we wish to infer the cause.\n",
        "    \n",
        "    let A_1, A_2, A_3...A_n be disjoint events that form a partition of\n",
        "    the sample space and assume that P(A_i)>0. then for any events B(P(B)>0). we have\n",
        "\n",
        "    P(A_i∣B)=P(B∣A_i)⋅P(A_i)/P(B)\n",
        "\n",
        "    P(A_i∣B) is the posterior probability of A given B.\n",
        "    P(B_i∣A) is the likelihood of B given A.\n",
        "    P(A_i) is the prior probability of A.\n",
        "    P(B) is the marginal likelihood of B.\n",
        "---\n",
        "**Question:**\n",
        "\n",
        "A company has conducted a survey among its customers to measure satisfaction levels. The company classifies its customers into two categories: Premium and Regular. It also collects data on whether a customer is Satisfied or Not Satisfied with the service. The survey results are as follows:\n",
        "30% of the customers are Premium, and 70% are Regular.\n",
        "80% of Premium customers are Satisfied, while 60% of Regular customers are Satisfied.\n",
        "Given this information, if a customer is selected at random and found to be Satisfied, what is the probability that they are a Premium customer?\n",
        "\n",
        "This problem requires calculating the conditional probability\n",
        " P(Premium∣Satisfied).\n",
        "\n",
        "Use Python to solve this problem."
      ],
      "metadata": {
        "id": "yC58LHP87GY7"
      }
    },
    {
      "cell_type": "code",
      "source": [
        "\n",
        "P_premium = 0.30  # Probability of being a Premium customer\n",
        "P_regular = 0.70  # Probability of being a Regular customer\n",
        "\n",
        "P_satisfied_given_premium = 0.80  # Probability of being satisfied given a Premium customer\n",
        "P_satisfied_given_regular = 0.60  # Probability of being satisfied given a Regular customer\n",
        "\n",
        "# Total probability of being satisfied\n",
        "P_satisfied = (P_satisfied_given_premium * P_premium) + (P_satisfied_given_regular * P_regular)\n",
        "\n",
        "# Using Bayes' Theorem to find P(Premium | Satisfied)\n",
        "P_premium_given_satisfied = (P_satisfied_given_premium * P_premium) / P_satisfied\n",
        "\n",
        "# Output the result\n",
        "print(\"The probability that a customer is a Premium customer given that they are Satisfied is\",P_premium_given_satisfied)"
      ],
      "metadata": {
        "colab": {
          "base_uri": "https://localhost:8080/"
        },
        "id": "6YqvKUn_AZAy",
        "outputId": "8faa1301-041c-4711-a8fa-820d2b6b1a73"
      },
      "execution_count": null,
      "outputs": [
        {
          "output_type": "stream",
          "name": "stdout",
          "text": [
            "The probability that a customer is a Premium customer given that they are Satisfied is 0.36363636363636365\n"
          ]
        }
      ]
    }
  ]
}